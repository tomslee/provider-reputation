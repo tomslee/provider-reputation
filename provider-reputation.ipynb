{
 "cells": [
  {
   "cell_type": "markdown",
   "metadata": {},
   "source": [
    "# Service Provider Reputation Systems: A Model\n",
    "\n",
    "Uber, Airbnb, and other \"sharing economy\" platforms use reputations systems in which customers rate service providers, and service providers rate customers. Rating sites such as Yelp and TripAdvisor also rely on customer ratings to provide recommendations of service providers. This investigation focuses on customer ratings of service providers, as even when each party can rate the other, service providers have most to lose.\n",
    "\n",
    "Two seemingly contradictory observations have emerged from these systems:\n",
    "1. The systems show a Lake Woebegon effect, in which average ratings are very high. While ratings of Netflix movies, for example, peak around 3.5 out of 5, Uber drivers can be \"deactivated\" (fired) if their rating slips below 4.6 out of 5. This \"J-curve\" distribution suggests that customers treat reviews as a courtesy, rather than as an opportunity for objective assessment. Rather like a guest book, customers leave nice comments or say nothing at all.\n",
    "2. Service providers fear the judgement of vanished customers (a Panopticon effect). They are very apprehensive that ratings given for the most frivolous of reasons may wreck their earnings opportunities, either by outright removal from a platform or by pushing them down the rankings in search recommendations, so rendering them invisible.\n",
    "\n",
    "The Lake Woebegon effect suggests that rating systems are useless in that they fail to discriminate between good and bad service providers, a suggestion held up by recent empirical research. The Panopticon effect suggests that rating systems may be effective, by inducing a customer-pleasing attitude in service providers.\n",
    "\n",
    "This investigation creates a model of behaviour under reputation systems that incorporates both the courtesy-driven Lake Woebegon effect and the judgement-driven Panopticon effect, and uses this model to explore issues such as whether reputation systems are fair, whether they are beneficial to service providers, and what kinds of behaviour they reward on the part of customers and service providers."
   ]
  },
  {
   "cell_type": "markdown",
   "metadata": {},
   "source": [
    "## Jupyter notebooks\n",
    "\n",
    "This document is a Jupyter notebook (previously called an iPython notebook). The code for the model is included as part of the document, and the graphs that show the results are generated using the code in the document. If you want to reproduce or extend this model, you can save the notebook, install the right packages in a Python distribution, and run it on your own computer. In addition to the requirements for Jupyter, you will need to install the following packages in a Python 3 environment."
   ]
  },
  {
   "cell_type": "code",
   "execution_count": 1,
   "metadata": {
    "collapsed": true
   },
   "outputs": [],
   "source": [
    "%matplotlib inline\n",
    "\n",
    "# imports\n",
    "import random # random number generation: part of the standard python distribution\n",
    "import numpy as np # numerical libraries used by matplotlib\n",
    "import matplotlib # plotting libraries\n",
    "import matplotlib.pyplot as plt # more plotting libraries\n",
    "import pandas as pd # data analysis library"
   ]
  },
  {
   "cell_type": "markdown",
   "metadata": {},
   "source": [
    "## The Model Reputation System\n",
    "\n",
    "There is a difference between rating movies and rating people: when we watch a movie the relationship is one way (the movie does not interact with us), but when we interact with others we enter into a two-way relationship. In some cases this relationship is brief and not likely to be repeated: taking a taxi or an Uber ride, eating in a fast-food restaurant in a city you are passing through. In other cases the relationship is richer and repeated: a stay at a Bed & Breakfast or an Airbnb (in a case where the host is present) may extend over days; a regular customer at a restaurant may get to know the staff; a relationship with a hairdresser or car mechanic may extend over years.\n",
    "\n",
    "The results from reputation systems show that the richer the customer-service provider relationship, the more likely the reputation system is to show a high average rating. The rating is, in effect, one part of the customer-service provider relationship rather than a \"drive-by\" review.\n",
    "\n",
    "### A repeated prisoner's dilemma model\n",
    "\n",
    "The rating system is a simple thumbs-up, thumbs-down system in which the customer rates the provider after each exchange. Each exchange, in turn, is made up of multiple interactions.\n",
    "\n",
    "I model an exchange between a customer and service provider (\"provider\" for short) as a repeated prisoner's dilemma (RPD), consisting of a number of interactions. The number of interactions in the RPD is a parameter: a single game of PD mimics the one-time interaction of a cab ride, a multiple-round PD mimics the extended and reciprocal relationship of a long-time relationship (hair-dresser, regular restaurant), or a rich one-time relationship (B&B).\n",
    "\n",
    "In each interaction, the provider has the opportunity to provide the best service they can (\"co-operate\") or to provide lazy service (\"defect\"). The customer has the opportunity to help the service provider by engaging in a dialog. \n",
    "\n",
    "Each customer has a choice of two strategies:\n",
    "- Tit-for-tat (reciprocal): this strategy is a reciprocal strategy that seeks to encourage co-operative behaviour between customer and service-provider. The customer gives a thumbs-up review on receiving a sincere effort from the provider, and a thumbs-down if the provider was lazy. The customer reviews are based on the provider's *effort* (this is a relationship) not on the provider's skill.\n",
    "- Grim (entitled): this strategy is to give a thumbs-up if the provider puts in a full effort, until the provider is lazy. After that, the customer judges the provider to be sub-par and provides a thumbs-down review, no matter what. The customer is believes they are *entitled* to full effort on each and every interaction.\n",
    "(QUESTION: Have I implemented \"Grim\" or \"Defect\")\n",
    "\n",
    "Each provider also has a choice of two strategies:\n",
    "- Tit-for-tat (reciprocal): the provider exerts themselves if the customer was co-operative in the previous interaction, and provides sloppy service if the customer was critical (defected).\n",
    "- Cooperate (servile): the provider is servile (or \"customer is always right\"), putting in full effort no matter how demanding the customer is."
   ]
  },
  {
   "cell_type": "markdown",
   "metadata": {},
   "source": [
    "# Code walkthrough\n",
    "\n",
    "Here is the implementation of the model, annotated. If you are not interesed in this, just skip to the next section.\n",
    "\n",
    "## Parameters\n",
    "\n",
    "Start with some constants that define the various things used elsewhere, in an attempt to make the rest of the code more legible."
   ]
  },
  {
   "cell_type": "code",
   "execution_count": 2,
   "metadata": {
    "collapsed": true
   },
   "outputs": [],
   "source": [
    "# A constant for each actor type: customer and provider\n",
    "ACTOR_TYPE_CUSTOMER = 0\n",
    "ACTOR_TYPE_PROVIDER = 1\n",
    "\n",
    "# Prisoner's dilemma strategies\n",
    "STRATEGY_T4T = \"T4T\"\n",
    "STRATEGY_GRIM = \"Grim\"\n",
    "STRATEGY_DEFECT = \"Defect\"\n",
    "STRATEGY_COOPERATE = \"Cooperate\"\n",
    "\n",
    "# Prisoner's dilemma choices: co-operate or defect\n",
    "CHOICE_COOPERATE = 0\n",
    "CHOICE_DEFECT = 1\n",
    "\n",
    "# The customer can give a thumbs-up or thumbs down rating of the provier\n",
    "RATING_THUMBS_UP = 1.0\n",
    "RATING_THUMBS_DOWN = -1.0\n",
    "\n",
    "# The payoffs in the prisoner's dilemma. \n",
    "PAYOFF_C_VERSUS_C = 1.0\n",
    "PAYOFF_C_VERSUS_D = 0.0\n",
    "PAYOFF_D_VERSUS_C = 1.5\n",
    "PAYOFF_D_VERSUS_D = 0.5\n",
    "\n",
    "# The initial reputation of the provider\n",
    "REPUTATION_DEFAULT = 0.0"
   ]
  },
  {
   "cell_type": "markdown",
   "metadata": {},
   "source": [
    "# An actor\n",
    "\n",
    "Each customer or provider is an actor. Each actor is represented by an Actor() object, which carries their type (ACTOR_TYPE_CUSTOMER or ACTOR_TYPE_PROVIDER), their strategy, and other information about them.\n",
    "\n",
    "The Actor() class also has a method called choice() which implements the actor's strategy in any exchange (set of interactions). You will see that the strategy is to choose CHOICE_COOPERATE or CHOICE_DEFECT based on the history of the exchange. There is also a random noise added to represent misunderstanding. The proportion of interactions in which the choice is made randomly is configurable, below."
   ]
  },
  {
   "cell_type": "code",
   "execution_count": 3,
   "metadata": {
    "collapsed": true
   },
   "outputs": [],
   "source": [
    "class Actor():\n",
    "       \n",
    "    def __init__(self, actor_strategy):\n",
    "        self.strategy = actor_strategy\n",
    "        # Initialize\n",
    "        self.seen_defect = False\n",
    "        self.utility = 0.0\n",
    "        self.exchanges = 0.0\n",
    "        self.previous_choice = None\n",
    "        self.exchange_score = 0 # score in a current exchange\n",
    "            \n",
    "    def choose(self, prev_opponent_choice, noise_fraction):\n",
    "        # This is the actor's strategy for prisoner's dilemma, and returns\n",
    "        # either CHOICE_COOPERATE or CHOICE_DEFECT.\n",
    "        # Currently, Tit-for-Tat, Grim, and \"Always co-operate\" are implemented\n",
    "        # A random noise is also added\n",
    "        \n",
    "        # The choice depends on whether the actor has seen their partner defect or not\n",
    "        # Here, the seen_defect flag gets set whenever the partner defects\n",
    "        # (it never gets reset to False)\n",
    "        if prev_opponent_choice == CHOICE_DEFECT:\n",
    "            self.seen_defect = True\n",
    "        \n",
    "        # A tit-for-tat player (customer or provider) co-operates on the first move\n",
    "        # and then does whatever their partner did on the previous move, repaying\n",
    "        # co-operation with co-operation and defection with defection.\n",
    "        if self.strategy == STRATEGY_T4T:\n",
    "            if prev_opponent_choice is None:\n",
    "                choice = CHOICE_COOPERATE\n",
    "            else:\n",
    "                choice = prev_opponent_choice\n",
    "        # Grim is a customer strategy. It co-operates until the provider defects, \n",
    "        # after which it defects no matter what the partner does\n",
    "        elif self.strategy == STRATEGY_GRIM:\n",
    "            if self.seen_defect == True:\n",
    "                choice = CHOICE_DEFECT\n",
    "            else:\n",
    "                choice = CHOICE_COOPERATE\n",
    "        # Co-operate is a provider strategy: the customer is always right - put out\n",
    "        # your best effort at all times. This is also called \"servile\" behaviour.\n",
    "        elif self.strategy == STRATEGY_COOPERATE:\n",
    "            choice = CHOICE_COOPERATE\n",
    "        # DEFECT is a customer strategy. Always find something to criticize.\n",
    "        elif self.strategy == STRATEGY_DEFECT:\n",
    "            choice = CHOICE_DEFECT\n",
    "        \n",
    "        # Notwithstanding the above, a fraction of choices are random, for both \n",
    "        # customer and provider. This represents misunderstanding and prevents\n",
    "        # artifical fragile equilibria from playing too big a part in the outcome\n",
    "        if random.random() < noise_fraction:\n",
    "            if random.random() < 0.5:\n",
    "                choice = CHOICE_COOPERATE\n",
    "            else:\n",
    "                choice = CHOICE_DEFECT\n",
    "        \n",
    "        return choice\n",
    "\n",
    "class Customer(Actor):\n",
    "\n",
    "    def __init__(self, strategy):\n",
    "        Actor.__init__(self, strategy)\n",
    "        self.actor_type = ACTOR_TYPE_CUSTOMER\n",
    "        \n",
    "class Provider(Actor):\n",
    "    \n",
    "    def __init__(self, strategy):\n",
    "        Actor.__init__(self, strategy)\n",
    "        self.rating_thumbs_up = 0.0 # number of positive ratings\n",
    "        self.rating_thumbs_down = 0.0 # number of negative ratings\n",
    "        self.competence = 0.0\n",
    "        self.actor_type = ACTOR_TYPE_PROVIDER       "
   ]
  },
  {
   "cell_type": "markdown",
   "metadata": {},
   "source": [
    "## A customer-provider interaction\n",
    "\n",
    "Each individual interaction between a customer and a provider is modelled as a single play of the prisoner's dilemma\n",
    "(with some noise to simulate uncertainty). The end result of each interaction is a utility payoff (score) for the customer \n",
    "and for the provider. "
   ]
  },
  {
   "cell_type": "code",
   "execution_count": 4,
   "metadata": {
    "collapsed": true
   },
   "outputs": [],
   "source": [
    "def interaction(customer, provider,  noise_fraction):\n",
    "    # a game of PD\n",
    "    customer_choice = customer.choose(provider.previous_choice, noise_fraction)\n",
    "    provider_choice = provider.choose(customer.previous_choice, noise_fraction)\n",
    "    # compute outcomes\n",
    "    # (2,2), (0,3)\n",
    "    # (3,0), (1,1)\n",
    "    if customer_choice == CHOICE_COOPERATE:\n",
    "        if provider_choice == CHOICE_COOPERATE:\n",
    "            customer_score = PAYOFF_C_VERSUS_C\n",
    "            provider_score = PAYOFF_C_VERSUS_C\n",
    "        elif provider_choice == CHOICE_DEFECT:\n",
    "            customer_score = PAYOFF_C_VERSUS_D\n",
    "            provider_score = PAYOFF_D_VERSUS_C\n",
    "    elif customer_choice == CHOICE_DEFECT:\n",
    "        if provider_choice == CHOICE_COOPERATE:\n",
    "            customer_score = PAYOFF_D_VERSUS_C\n",
    "            provider_score = PAYOFF_C_VERSUS_D\n",
    "        elif provider_choice == CHOICE_DEFECT:\n",
    "            customer_score = PAYOFF_D_VERSUS_D\n",
    "            provider_score = PAYOFF_D_VERSUS_D\n",
    "    return (customer_choice, provider_choice, customer_score, provider_score)"
   ]
  },
  {
   "cell_type": "markdown",
   "metadata": {},
   "source": [
    "## A customer-provider exchange\n",
    "\n",
    "Each time a customer undergoes an exchange with a provider, their relationship takes the form of several interactions."
   ]
  },
  {
   "cell_type": "code",
   "execution_count": 5,
   "metadata": {
    "collapsed": true
   },
   "outputs": [],
   "source": [
    "def exchange(customer, provider, interactions, noise_fraction):\n",
    "    # an exchange between a customer and provider. A single exchange consists\n",
    "    # of multiple interactions, and culminates in a rating. The rating is added on to the\n",
    "    # reputation of the provider\n",
    "    customer.exchanges += 1.0\n",
    "    provider.exchanges += 1.0\n",
    "    customer.exchange_score = 0.0\n",
    "    provider.exchange_score = 0.0\n",
    "    customer.previous_choice = None\n",
    "    provider.previous_choice = None\n",
    "    for exchange_interaction in range(interactions):\n",
    "        (customer.previous_choice, provider.previous_choice,\n",
    "         customer_score, provider_score) = interaction(customer, \n",
    "                                                     provider, \n",
    "                                                     noise_fraction)\n",
    "        customer.exchange_score += customer_score\n",
    "        provider.exchange_score += provider_score\n",
    "    if interactions > 0.0:\n",
    "        customer.utility += customer.exchange_score / float(interactions)\n",
    "        provider.utility += provider.exchange_score / float(interactions)\n",
    "        \n",
    "    # to conclude the exchange, the customer rates the provider\n",
    "    # A good outcome is one with a payoff better than the average of Cooperate | Defect\n",
    "    # also, there is a competence limit which becomes less important with exchange interactions\n",
    "    threshold_per_interaction = (PAYOFF_C_VERSUS_D + PAYOFF_D_VERSUS_C)/ 2.0\n",
    "    if (customer.exchange_score > sim.interactions_per_exchange * threshold_per_interaction and \n",
    "        provider.competence > sim.competence_threshold / interactions):\n",
    "        good_experience = True\n",
    "    else:\n",
    "        good_experience = False\n",
    "    if customer.strategy == STRATEGY_T4T:\n",
    "        # only report good outcomes\n",
    "        if good_experience:\n",
    "            provider.rating_thumbs_up += 1.0\n",
    "    elif customer.strategy == STRATEGY_GRIM or customer.strategy == STRATEGY_DEFECT:\n",
    "        if good_experience:\n",
    "            provider.rating_thumbs_up += 1.0\n",
    "        else:\n",
    "            provider.rating_thumbs_down += 1.0"
   ]
  },
  {
   "cell_type": "markdown",
   "metadata": {},
   "source": [
    "## Rating periods\n",
    "\n",
    "Each simulation is run over a number of rating periods. In each rating period, every customer chooses a provider\n",
    "and they have an exchange. Depending on the number of customers and providers, this may mean that a \n",
    "provider undertakes several exchanges, one, or none."
   ]
  },
  {
   "cell_type": "code",
   "execution_count": 6,
   "metadata": {
    "collapsed": true
   },
   "outputs": [],
   "source": [
    "def rating_period(period, sim):\n",
    "    # Match up customers with providers: many customers may undertake an exchange with one provider\n",
    "    # in a single period.\n",
    "    \n",
    "    # Assign ranges weighted by reputation\n",
    "    maximum = 0.0\n",
    "    store_front_max = [] # a list of values partitioning a range so that exchanges can be matched\n",
    "    for provider_id in range(sim.provider_count):\n",
    "        # need conditional to avoid divide-by-zero error for no ratings\n",
    "        provider = sim.providers[provider_id]\n",
    "        if provider.rating_thumbs_up + provider.rating_thumbs_down > 0.5:\n",
    "            reputation = ((provider.rating_thumbs_up - provider.rating_thumbs_down)/\n",
    "                          (provider.rating_thumbs_up + provider.rating_thumbs_down))\n",
    "        else:\n",
    "            reputation = REPUTATION_DEFAULT # initial rating is neutral\n",
    "        # scale to [0.0, REPUTATION_STRENGTH]\n",
    "        reputation_scaled = (sim.reputation_strength * \n",
    "                             (reputation - RATING_THUMBS_DOWN)/(RATING_THUMBS_UP - RATING_THUMBS_DOWN))\n",
    "        maximum +=  1.0 + reputation_scaled\n",
    "        store_front_max.append(maximum)\n",
    "        \n",
    "    # Each customer chooses a provider and undertakes an exchange with them\n",
    "    for customer_id in range(sim.customer_count):\n",
    "        # choose a value between zero and the maximum\n",
    "        val = random.uniform(0.0, maximum)\n",
    "        # find which provider it is (inefficiently)\n",
    "        for provider_id in range(sim.provider_count):\n",
    "            if val <= store_front_max[provider_id]:\n",
    "                break\n",
    "        exchange(sim.customers[customer_id], \n",
    "              sim.providers[provider_id], \n",
    "              sim.interactions_per_exchange,\n",
    "              sim.noise_fraction)"
   ]
  },
  {
   "cell_type": "markdown",
   "metadata": {},
   "source": [
    "## A Simulation run\n",
    "\n",
    "Each simulation takes place over a number of rating periods."
   ]
  },
  {
   "cell_type": "code",
   "execution_count": 54,
   "metadata": {
    "collapsed": true
   },
   "outputs": [],
   "source": [
    "# PARAMETERS\n",
    "class Simulation():\n",
    "    def __init__(self,\n",
    "                customer_count,\n",
    "                provider_count,\n",
    "                customer_t4t_proportion,\n",
    "                provider_t4t_proportion,\n",
    "                rating_periods,\n",
    "                interactions_per_exchange,\n",
    "                noise_fraction,\n",
    "                competence_threshold,\n",
    "                reputation_strength,\n",
    "                customer_strategies,\n",
    "                provider_strategies):\n",
    "        self.customer_count = customer_count\n",
    "        self.provider_count = provider_count\n",
    "        self.rating_periods = rating_periods\n",
    "        self.interactions_per_exchange = interactions_per_exchange\n",
    "        self.noise_fraction = noise_fraction\n",
    "        self.competence_threshold = competence_threshold\n",
    "        self.reputation_strength = reputation_strength\n",
    "        random.seed(1)  \n",
    "        \n",
    "        # initialize an array of customers, and assign the strategies\n",
    "        # to each (starting with T4T)\n",
    "        self.customer_strategies = (STRATEGY_T4T, STRATEGY_GRIM)\n",
    "        self.customers = []\n",
    "        for customer_id in range(self.customer_count):\n",
    "            if customer_id < int(self.customer_count * customer_t4t_proportion):\n",
    "                self.customers.append(Customer(STRATEGY_T4T))\n",
    "            else:\n",
    "                self.customers.append(Customer(STRATEGY_GRIM))\n",
    "        \n",
    "        # initialize an array of providers, and assign the strategies\n",
    "        self.provider_strategies = (STRATEGY_T4T, STRATEGY_COOPERATE)\n",
    "        self.providers = []\n",
    "        for provider_id in range(self.provider_count):\n",
    "            if provider_id < int(self.provider_count * provider_t4t_proportion):\n",
    "                self.providers.append(Provider(STRATEGY_T4T))\n",
    "            else:\n",
    "                self.providers.append(Provider(STRATEGY_COOPERATE))\n",
    "        # assign competence uniformly in (0,1) but randomly \n",
    "        shuffled_providers = list(range(self.provider_count))\n",
    "        random.shuffle(shuffled_providers)\n",
    "        for index, provider_id in enumerate(shuffled_providers):\n",
    "            self.providers[provider_id].competence = (float(index + 1) /\n",
    "                                                      float(self.provider_count))\n",
    "                \n",
    "    def simulate(self):\n",
    "        for period in range(self.rating_periods):\n",
    "            rating_period(period, self)"
   ]
  },
  {
   "cell_type": "markdown",
   "metadata": {},
   "source": [
    "# Plotting functions\n",
    "\n",
    "Output of various kinds"
   ]
  },
  {
   "cell_type": "code",
   "execution_count": 59,
   "metadata": {
    "collapsed": false
   },
   "outputs": [],
   "source": [
    "# Plotting functions\n",
    "def plot_customers(sim):\n",
    "    df_customer = pd.DataFrame({\n",
    "        \"utility\": pd.Series([customer.utility for customer in sim.customers]),\n",
    "        \"strategy\": pd.Series([customer.strategy for customer in sim.customers]),\n",
    "        \"exchanges\": pd.Series([customer.exchanges for customer in sim.customers]),\n",
    "    })\n",
    "    # sns.set_context(\"notebook\", font_scale=1.0, rc={\"lines.linewidth\": 2.5})\n",
    "    (width, opacity) = (0.4, 1.0)\n",
    "    fig, axes = plt.subplots(1, 2, figsize=(6, 3)) # rows, cols\n",
    "    plt.setp(fig.axes, xticklabels=sim.customer_strategies)\n",
    "    plt.style.use('ggplot')\n",
    "    df0 = pd.pivot_table(df_customer, index=[\"strategy\"], values=\"utility\")\n",
    "    df0.plot(ax=axes[0], kind=\"bar\", alpha=opacity, width=width)\n",
    "    axes[0].set_xlabel(\"Strategy\")\n",
    "    axes[0].set_ylabel(\"Customer Relationship Utility\")\n",
    "    df1 = pd.pivot_table(df_customer, index=[\"strategy\"], values=\"exchanges\")\n",
    "    df1.plot(ax=axes[1], kind=\"bar\", alpha=opacity, width=width)\n",
    "    axes[1].set_xlabel(\"Strategy\")\n",
    "    axes[1].set_ylabel(\"Exchanges per Customer\")\n",
    "    plt.tight_layout(pad=0.4, w_pad=0.5, h_pad=1.0)\n",
    "    plt.show() \n",
    "    \n",
    "def plot_providers(sim):\n",
    "    df_provider = pd.DataFrame({\n",
    "        \"utility\": pd.Series([provider.utility for provider in sim.providers]),\n",
    "        \"strategy\": pd.Series([provider.strategy for provider in sim.providers]),\n",
    "        \"exchanges\": pd.Series([provider.exchanges for provider in sim.providers]),\n",
    "        \"competence\": pd.Series([provider.competence for provider in sim.providers]),\n",
    "        \"reputation\": pd.Series([(provider.rating_thumbs_up - provider.rating_thumbs_down )\n",
    "                                 / (provider.rating_thumbs_up + provider.rating_thumbs_down )\n",
    "                                 for provider in sim.providers]),\n",
    "    })\n",
    "    (width, opacity) = (0.4, 1.0)\n",
    "    fig, axes = plt.subplots(1, 3, figsize=(9, 3)) # rows, cols\n",
    "    plt.setp(fig.axes, xticklabels=sim.provider_strategies)\n",
    "    plt.style.use('ggplot')\n",
    "    df0 = pd.pivot_table(df_provider, index=[\"strategy\"], values=\"utility\")\n",
    "    df0.plot(ax=axes[0], kind=\"bar\", alpha=opacity, width=width)\n",
    "    axes[0].set_ylabel(\"Provider Relationship Utility\")\n",
    "    df1 = pd.pivot_table(df_provider, index=[\"strategy\"], values=\"exchanges\")\n",
    "    df1.plot(ax=axes[1], kind=\"bar\", alpha=opacity, width=width)\n",
    "    axes[1].set_ylabel(\"Exchanges per Provider\")\n",
    "    df2 = pd.pivot_table(df_provider, index=[\"strategy\"], values=\"reputation\")\n",
    "    df2.plot(ax=axes[2], kind=\"bar\", alpha=opacity, width=width)\n",
    "    axes[2].set_ylabel(\"Reputation\")\n",
    "    plt.tight_layout(pad=0.4, w_pad=0.5, h_pad=1.0)\n",
    "    plt.show()  \n",
    "    \n",
    "    \n",
    "def plot_results_by_competence(sim):\n",
    "    df_provider = pd.DataFrame({\n",
    "        \"utility\": pd.Series([provider.utility / provider.exchanges \n",
    "                              for provider in sim.providers]),\n",
    "        \"strategy\": pd.Series([provider.strategy for provider in sim.providers]),\n",
    "        \"exchanges\": pd.Series([provider.exchanges for provider in sim.providers]),\n",
    "        \"competence\": pd.Series([provider.competence for provider in sim.providers]),\n",
    "        \"reputation\": pd.Series([(provider.rating_thumbs_up - provider.rating_thumbs_down )\n",
    "                                 / (provider.rating_thumbs_up + provider.rating_thumbs_down )\n",
    "                                 for provider in sim.providers]),\n",
    "    })\n",
    "    markers = ('o', 'o', '*')\n",
    "    colors = ('red', 'blue', 'green')\n",
    "    marker_size = 50\n",
    "    (width, opacity) = (0.6, 0.6)\n",
    "\n",
    "    plt.style.use('ggplot')\n",
    "    fig, axes = plt.subplots(1, 3, figsize=(12, 4)) # rows, cols\n",
    "    for index, strategy in enumerate(sim.provider_strategies):\n",
    "        df_provider[df_provider['strategy'] == strategy].plot(\n",
    "            kind=\"scatter\", x= \"competence\", y = \"utility\", color=colors[index], \n",
    "            marker=markers[index], s=marker_size, alpha=opacity, label=strategy, ax=axes[0])\n",
    "        df_provider[df_provider['strategy'] == strategy].plot(\n",
    "            kind=\"scatter\", x= \"competence\", y = \"reputation\", color=colors[index], \n",
    "            marker=markers[index], s=marker_size, alpha=opacity, label=strategy, ax=axes[1])\n",
    "        df_provider[df_provider['strategy'] == strategy].plot(\n",
    "            kind=\"scatter\", x= \"competence\", y = \"exchanges\", color=colors[index], \n",
    "            marker=markers[index], s=marker_size, alpha=opacity, label=strategy, ax=axes[2])\n",
    "    axes[0].set_xlabel('Provider Competence')\n",
    "    axes[0].set_ylabel('Provider Relationship Utility')\n",
    "    axes[0].legend(fancybox=True, frameon=True, loc='upper left');\n",
    "    axes[1].set_xlabel('Provider Competence')\n",
    "    axes[1].set_ylabel('Provider Reputation')\n",
    "    axes[1].legend(fancybox=True, frameon=True, loc='upper left');\n",
    "    axes[2].set_xlabel('Provider Competence')\n",
    "    axes[2].set_ylabel('Exchanges')\n",
    "    axes[2].legend(fancybox=True, frameon=True, loc='upper left');\n",
    "    plt.tight_layout(pad=0.4, w_pad=0.5, h_pad=1.0)\n",
    "    plt.show()       "
   ]
  },
  {
   "cell_type": "markdown",
   "metadata": {},
   "source": [
    "# Actual simulations"
   ]
  },
  {
   "cell_type": "code",
   "execution_count": 63,
   "metadata": {
    "collapsed": false
   },
   "outputs": [],
   "source": [
    "sim = Simulation(\n",
    "    customer_count = 240,\n",
    "    provider_count = 80,\n",
    "    customer_t4t_proportion = 0.9, # all others are Grim or Defect\n",
    "    provider_t4t_proportion = 0.5, # all others are Cooperate\n",
    "    rating_periods = 100,\n",
    "    interactions_per_exchange = 10,\n",
    "    noise_fraction = 0.1,\n",
    "    competence_threshold = 0.1,\n",
    "    reputation_strength = 1.0, # 0 = ignored, 1 = impact of up to 50%\n",
    "    customer_strategies = (STRATEGY_T4T, STRATEGY_GRIM),\n",
    "    provider_strategies = (STRATEGY_T4T, STRATEGY_COOPERATE)\n",
    "    )\n",
    "sim.simulate()"
   ]
  },
  {
   "cell_type": "code",
   "execution_count": 64,
   "metadata": {
    "collapsed": false
   },
   "outputs": [
    {
     "name": "stderr",
     "output_type": "stream",
     "text": [
      "C:\\Users\\tom\\Miniconda\\envs\\py34\\lib\\site-packages\\matplotlib\\collections.py:590: FutureWarning: elementwise comparison failed; returning scalar instead, but in the future will perform elementwise comparison\n",
      "  if self._edgecolors == str('face'):\n"
     ]
    },
    {
     "data": {
      "image/png": "[encoded data removed]",
      "text/plain": [
       "<matplotlib.figure.Figure at 0x7d4d68>"
      ]
     },
     "metadata": {},
     "output_type": "display_data"
    }
   ],
   "source": [
    "plot_results_by_competence(sim)\n",
    "#plot_customers(sim)\n",
    "#plot_providers(sim)"
   ]
  },
  {
   "cell_type": "code",
   "execution_count": null,
   "metadata": {
    "collapsed": true
   },
   "outputs": [],
   "source": []
  }
 ],
 "metadata": {
  "kernelspec": {
   "display_name": "Python 3",
   "language": "python",
   "name": "python3"
  },
  "language_info": {
   "codemirror_mode": {
    "name": "ipython",
    "version": 3
   },
   "file_extension": ".py",
   "mimetype": "text/x-python",
   "name": "python",
   "nbconvert_exporter": "python",
   "pygments_lexer": "ipython3",
   "version": "3.4.3"
  }
 },
 "nbformat": 4,
 "nbformat_minor": 0
}
